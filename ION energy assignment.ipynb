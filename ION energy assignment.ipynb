{
 "cells": [
  {
   "cell_type": "code",
   "execution_count": 19,
   "metadata": {},
   "outputs": [],
   "source": [
    "import pandas as pd\n",
    "import numpy as np"
   ]
  },
  {
   "cell_type": "code",
   "execution_count": 2,
   "metadata": {},
   "outputs": [],
   "source": [
    "data=pd.read_csv(\"C:/Users/admin/Desktop/ION energy/ION-dataset.csv\")"
   ]
  },
  {
   "cell_type": "code",
   "execution_count": 3,
   "metadata": {},
   "outputs": [
    {
     "data": {
      "text/html": [
       "<div>\n",
       "<style scoped>\n",
       "    .dataframe tbody tr th:only-of-type {\n",
       "        vertical-align: middle;\n",
       "    }\n",
       "\n",
       "    .dataframe tbody tr th {\n",
       "        vertical-align: top;\n",
       "    }\n",
       "\n",
       "    .dataframe thead th {\n",
       "        text-align: right;\n",
       "    }\n",
       "</style>\n",
       "<table border=\"1\" class=\"dataframe\">\n",
       "  <thead>\n",
       "    <tr style=\"text-align: right;\">\n",
       "      <th></th>\n",
       "      <th>Timestamp</th>\n",
       "      <th>Current</th>\n",
       "      <th>Total voltage</th>\n",
       "      <th>SOC</th>\n",
       "      <th>Temperature</th>\n",
       "      <th>SOH</th>\n",
       "      <th>Equivalent cycle</th>\n",
       "      <th>Application status</th>\n",
       "      <th>Grid status</th>\n",
       "      <th>Grid power</th>\n",
       "      <th>Grid energy consumption</th>\n",
       "      <th>Grid cumulative energy consumption</th>\n",
       "    </tr>\n",
       "  </thead>\n",
       "  <tbody>\n",
       "    <tr>\n",
       "      <th>0</th>\n",
       "      <td>1556701215000</td>\n",
       "      <td>0</td>\n",
       "      <td>66.72</td>\n",
       "      <td>1.0</td>\n",
       "      <td>25.229167</td>\n",
       "      <td>1.000000</td>\n",
       "      <td>0.0</td>\n",
       "      <td>1</td>\n",
       "      <td>1</td>\n",
       "      <td>0.0</td>\n",
       "      <td>0.0</td>\n",
       "      <td>0.0</td>\n",
       "    </tr>\n",
       "    <tr>\n",
       "      <th>1</th>\n",
       "      <td>1556702215000</td>\n",
       "      <td>0</td>\n",
       "      <td>66.72</td>\n",
       "      <td>1.0</td>\n",
       "      <td>25.528210</td>\n",
       "      <td>0.999774</td>\n",
       "      <td>0.0</td>\n",
       "      <td>1</td>\n",
       "      <td>1</td>\n",
       "      <td>0.0</td>\n",
       "      <td>0.0</td>\n",
       "      <td>0.0</td>\n",
       "    </tr>\n",
       "    <tr>\n",
       "      <th>2</th>\n",
       "      <td>1556703215000</td>\n",
       "      <td>0</td>\n",
       "      <td>66.72</td>\n",
       "      <td>1.0</td>\n",
       "      <td>25.859735</td>\n",
       "      <td>0.999679</td>\n",
       "      <td>0.0</td>\n",
       "      <td>1</td>\n",
       "      <td>1</td>\n",
       "      <td>0.0</td>\n",
       "      <td>0.0</td>\n",
       "      <td>0.0</td>\n",
       "    </tr>\n",
       "    <tr>\n",
       "      <th>3</th>\n",
       "      <td>1556704215000</td>\n",
       "      <td>0</td>\n",
       "      <td>66.72</td>\n",
       "      <td>1.0</td>\n",
       "      <td>26.204830</td>\n",
       "      <td>0.999606</td>\n",
       "      <td>0.0</td>\n",
       "      <td>1</td>\n",
       "      <td>1</td>\n",
       "      <td>0.0</td>\n",
       "      <td>0.0</td>\n",
       "      <td>0.0</td>\n",
       "    </tr>\n",
       "    <tr>\n",
       "      <th>4</th>\n",
       "      <td>1556705215000</td>\n",
       "      <td>0</td>\n",
       "      <td>66.72</td>\n",
       "      <td>1.0</td>\n",
       "      <td>26.553448</td>\n",
       "      <td>0.999542</td>\n",
       "      <td>0.0</td>\n",
       "      <td>1</td>\n",
       "      <td>1</td>\n",
       "      <td>0.0</td>\n",
       "      <td>0.0</td>\n",
       "      <td>0.0</td>\n",
       "    </tr>\n",
       "    <tr>\n",
       "      <th>5</th>\n",
       "      <td>1556706215000</td>\n",
       "      <td>0</td>\n",
       "      <td>66.72</td>\n",
       "      <td>1.0</td>\n",
       "      <td>26.899805</td>\n",
       "      <td>0.999485</td>\n",
       "      <td>0.0</td>\n",
       "      <td>1</td>\n",
       "      <td>1</td>\n",
       "      <td>0.0</td>\n",
       "      <td>0.0</td>\n",
       "      <td>0.0</td>\n",
       "    </tr>\n",
       "    <tr>\n",
       "      <th>6</th>\n",
       "      <td>1556707215000</td>\n",
       "      <td>0</td>\n",
       "      <td>66.72</td>\n",
       "      <td>1.0</td>\n",
       "      <td>27.240183</td>\n",
       "      <td>0.999433</td>\n",
       "      <td>0.0</td>\n",
       "      <td>1</td>\n",
       "      <td>1</td>\n",
       "      <td>0.0</td>\n",
       "      <td>0.0</td>\n",
       "      <td>0.0</td>\n",
       "    </tr>\n",
       "    <tr>\n",
       "      <th>7</th>\n",
       "      <td>1556708215000</td>\n",
       "      <td>0</td>\n",
       "      <td>66.72</td>\n",
       "      <td>1.0</td>\n",
       "      <td>27.571878</td>\n",
       "      <td>0.999385</td>\n",
       "      <td>0.0</td>\n",
       "      <td>1</td>\n",
       "      <td>1</td>\n",
       "      <td>0.0</td>\n",
       "      <td>0.0</td>\n",
       "      <td>0.0</td>\n",
       "    </tr>\n",
       "    <tr>\n",
       "      <th>8</th>\n",
       "      <td>1556709215000</td>\n",
       "      <td>0</td>\n",
       "      <td>66.72</td>\n",
       "      <td>1.0</td>\n",
       "      <td>27.892704</td>\n",
       "      <td>0.999339</td>\n",
       "      <td>0.0</td>\n",
       "      <td>1</td>\n",
       "      <td>1</td>\n",
       "      <td>0.0</td>\n",
       "      <td>0.0</td>\n",
       "      <td>0.0</td>\n",
       "    </tr>\n",
       "    <tr>\n",
       "      <th>9</th>\n",
       "      <td>1556710215000</td>\n",
       "      <td>0</td>\n",
       "      <td>66.72</td>\n",
       "      <td>1.0</td>\n",
       "      <td>28.200757</td>\n",
       "      <td>0.999295</td>\n",
       "      <td>0.0</td>\n",
       "      <td>1</td>\n",
       "      <td>1</td>\n",
       "      <td>0.0</td>\n",
       "      <td>0.0</td>\n",
       "      <td>0.0</td>\n",
       "    </tr>\n",
       "  </tbody>\n",
       "</table>\n",
       "</div>"
      ],
      "text/plain": [
       "       Timestamp  Current  Total voltage  SOC  Temperature       SOH  \\\n",
       "0  1556701215000        0          66.72  1.0    25.229167  1.000000   \n",
       "1  1556702215000        0          66.72  1.0    25.528210  0.999774   \n",
       "2  1556703215000        0          66.72  1.0    25.859735  0.999679   \n",
       "3  1556704215000        0          66.72  1.0    26.204830  0.999606   \n",
       "4  1556705215000        0          66.72  1.0    26.553448  0.999542   \n",
       "5  1556706215000        0          66.72  1.0    26.899805  0.999485   \n",
       "6  1556707215000        0          66.72  1.0    27.240183  0.999433   \n",
       "7  1556708215000        0          66.72  1.0    27.571878  0.999385   \n",
       "8  1556709215000        0          66.72  1.0    27.892704  0.999339   \n",
       "9  1556710215000        0          66.72  1.0    28.200757  0.999295   \n",
       "\n",
       "   Equivalent cycle  Application status  Grid status  Grid power  \\\n",
       "0               0.0                   1            1         0.0   \n",
       "1               0.0                   1            1         0.0   \n",
       "2               0.0                   1            1         0.0   \n",
       "3               0.0                   1            1         0.0   \n",
       "4               0.0                   1            1         0.0   \n",
       "5               0.0                   1            1         0.0   \n",
       "6               0.0                   1            1         0.0   \n",
       "7               0.0                   1            1         0.0   \n",
       "8               0.0                   1            1         0.0   \n",
       "9               0.0                   1            1         0.0   \n",
       "\n",
       "   Grid energy consumption  Grid cumulative energy consumption  \n",
       "0                      0.0                                 0.0  \n",
       "1                      0.0                                 0.0  \n",
       "2                      0.0                                 0.0  \n",
       "3                      0.0                                 0.0  \n",
       "4                      0.0                                 0.0  \n",
       "5                      0.0                                 0.0  \n",
       "6                      0.0                                 0.0  \n",
       "7                      0.0                                 0.0  \n",
       "8                      0.0                                 0.0  \n",
       "9                      0.0                                 0.0  "
      ]
     },
     "execution_count": 3,
     "metadata": {},
     "output_type": "execute_result"
    }
   ],
   "source": [
    "data.head(10)"
   ]
  },
  {
   "cell_type": "code",
   "execution_count": 5,
   "metadata": {},
   "outputs": [
    {
     "name": "stdout",
     "output_type": "stream",
     "text": [
      "<class 'pandas.core.frame.DataFrame'>\n",
      "RangeIndex: 31104 entries, 0 to 31103\n",
      "Data columns (total 12 columns):\n",
      "Timestamp                             31104 non-null int64\n",
      "Current                               31104 non-null int64\n",
      "Total voltage                         31104 non-null float64\n",
      "SOC                                   31104 non-null float64\n",
      "Temperature                           31104 non-null float64\n",
      "SOH                                   31104 non-null float64\n",
      "Equivalent cycle                      31104 non-null float64\n",
      "Application status                    31104 non-null int64\n",
      "Grid status                           31104 non-null int64\n",
      "Grid power                            31104 non-null float64\n",
      "Grid energy consumption               31104 non-null float64\n",
      "Grid cumulative energy consumption    31104 non-null float64\n",
      "dtypes: float64(8), int64(4)\n",
      "memory usage: 2.8 MB\n"
     ]
    }
   ],
   "source": [
    "data.info()"
   ]
  },
  {
   "cell_type": "code",
   "execution_count": 7,
   "metadata": {},
   "outputs": [
    {
     "data": {
      "text/plain": [
       "0.2279466612854479"
      ]
     },
     "execution_count": 7,
     "metadata": {},
     "output_type": "execute_result"
    }
   ],
   "source": [
    "data['Grid status'].corr(data['SOC'])"
   ]
  },
  {
   "cell_type": "code",
   "execution_count": 8,
   "metadata": {},
   "outputs": [
    {
     "data": {
      "text/plain": [
       "-0.9842624478536381"
      ]
     },
     "execution_count": 8,
     "metadata": {},
     "output_type": "execute_result"
    }
   ],
   "source": [
    "data['Equivalent cycle'].corr(data['SOH'])"
   ]
  },
  {
   "cell_type": "code",
   "execution_count": 9,
   "metadata": {},
   "outputs": [
    {
     "data": {
      "text/plain": [
       "-0.36904035326610707"
      ]
     },
     "execution_count": 9,
     "metadata": {},
     "output_type": "execute_result"
    }
   ],
   "source": [
    "data['SOC'].corr(data['Temperature'])"
   ]
  },
  {
   "cell_type": "code",
   "execution_count": 10,
   "metadata": {},
   "outputs": [],
   "source": [
    "import seaborn as sns"
   ]
  },
  {
   "cell_type": "code",
   "execution_count": 11,
   "metadata": {},
   "outputs": [
    {
     "data": {
      "text/plain": [
       "<matplotlib.axes._subplots.AxesSubplot at 0x9e47130>"
      ]
     },
     "execution_count": 11,
     "metadata": {},
     "output_type": "execute_result"
    },
    {
     "data": {
      "image/png": "[encoded data removed]",
      "text/plain": [
       "<Figure size 432x288 with 2 Axes>"
      ]
     },
     "metadata": {},
     "output_type": "display_data"
    }
   ],
   "source": [
    "sns.heatmap(data.corr())"
   ]
  },
  {
   "cell_type": "code",
   "execution_count": 20,
   "metadata": {},
   "outputs": [],
   "source": [
    "data1=data[['Grid status','Equivalent cycle','SOH','SOC','Temperature']]"
   ]
  },
  {
   "cell_type": "code",
   "execution_count": 21,
   "metadata": {},
   "outputs": [
    {
     "data": {
      "text/html": [
       "<div>\n",
       "<style scoped>\n",
       "    .dataframe tbody tr th:only-of-type {\n",
       "        vertical-align: middle;\n",
       "    }\n",
       "\n",
       "    .dataframe tbody tr th {\n",
       "        vertical-align: top;\n",
       "    }\n",
       "\n",
       "    .dataframe thead th {\n",
       "        text-align: right;\n",
       "    }\n",
       "</style>\n",
       "<table border=\"1\" class=\"dataframe\">\n",
       "  <thead>\n",
       "    <tr style=\"text-align: right;\">\n",
       "      <th></th>\n",
       "      <th>Grid status</th>\n",
       "      <th>Equivalent cycle</th>\n",
       "      <th>SOH</th>\n",
       "      <th>SOC</th>\n",
       "      <th>Temperature</th>\n",
       "    </tr>\n",
       "  </thead>\n",
       "  <tbody>\n",
       "    <tr>\n",
       "      <th>0</th>\n",
       "      <td>1</td>\n",
       "      <td>0.0</td>\n",
       "      <td>1.000000</td>\n",
       "      <td>1.0</td>\n",
       "      <td>25.229167</td>\n",
       "    </tr>\n",
       "    <tr>\n",
       "      <th>1</th>\n",
       "      <td>1</td>\n",
       "      <td>0.0</td>\n",
       "      <td>0.999774</td>\n",
       "      <td>1.0</td>\n",
       "      <td>25.528210</td>\n",
       "    </tr>\n",
       "    <tr>\n",
       "      <th>2</th>\n",
       "      <td>1</td>\n",
       "      <td>0.0</td>\n",
       "      <td>0.999679</td>\n",
       "      <td>1.0</td>\n",
       "      <td>25.859735</td>\n",
       "    </tr>\n",
       "    <tr>\n",
       "      <th>3</th>\n",
       "      <td>1</td>\n",
       "      <td>0.0</td>\n",
       "      <td>0.999606</td>\n",
       "      <td>1.0</td>\n",
       "      <td>26.204830</td>\n",
       "    </tr>\n",
       "    <tr>\n",
       "      <th>4</th>\n",
       "      <td>1</td>\n",
       "      <td>0.0</td>\n",
       "      <td>0.999542</td>\n",
       "      <td>1.0</td>\n",
       "      <td>26.553448</td>\n",
       "    </tr>\n",
       "  </tbody>\n",
       "</table>\n",
       "</div>"
      ],
      "text/plain": [
       "   Grid status  Equivalent cycle       SOH  SOC  Temperature\n",
       "0            1               0.0  1.000000  1.0    25.229167\n",
       "1            1               0.0  0.999774  1.0    25.528210\n",
       "2            1               0.0  0.999679  1.0    25.859735\n",
       "3            1               0.0  0.999606  1.0    26.204830\n",
       "4            1               0.0  0.999542  1.0    26.553448"
      ]
     },
     "execution_count": 21,
     "metadata": {},
     "output_type": "execute_result"
    }
   ],
   "source": [
    "data1.head()"
   ]
  },
  {
   "cell_type": "code",
   "execution_count": 22,
   "metadata": {},
   "outputs": [
    {
     "data": {
      "text/plain": [
       "<matplotlib.axes._subplots.AxesSubplot at 0xa88fa10>"
      ]
     },
     "execution_count": 22,
     "metadata": {},
     "output_type": "execute_result"
    },
    {
     "data": {
      "image/png": "[encoded data removed]",
      "text/plain": [
       "<Figure size 432x288 with 2 Axes>"
      ]
     },
     "metadata": {},
     "output_type": "display_data"
    }
   ],
   "source": [
    "sns.heatmap(data1.corr())"
   ]
  },
  {
   "cell_type": "code",
   "execution_count": null,
   "metadata": {},
   "outputs": [],
   "source": []
  }
 ],
 "metadata": {
  "kernelspec": {
   "display_name": "Python 3",
   "language": "python",
   "name": "python3"
  },
  "language_info": {
   "codemirror_mode": {
    "name": "ipython",
    "version": 3
   },
   "file_extension": ".py",
   "mimetype": "text/x-python",
   "name": "python",
   "nbconvert_exporter": "python",
   "pygments_lexer": "ipython3",
   "version": "3.6.5"
  }
 },
 "nbformat": 4,
 "nbformat_minor": 2
}
